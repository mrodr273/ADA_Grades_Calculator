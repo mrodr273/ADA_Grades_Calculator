{
 "cells": [
  {
   "cell_type": "code",
   "execution_count": 25,
   "metadata": {},
   "outputs": [],
   "source": [
    "def grade(spot_elev, spot_elev2, distance,feature):\n",
    "    grade = abs(spot_elev - spot_elev2)/distance*100\n",
    "    if feature == \"wing\":\n",
    "        if grade > 10:\n",
    "            message = \"the grade must be less than 10% from road grade\"\n",
    "        else:\n",
    "            message = \"is ADA compliant\"\n",
    "    elif feature == \"ramp running slope\":\n",
    "        if grade > 4.5:\n",
    "            message = \"The design grade shall be less than 4.5%\"\n",
    "        else:\n",
    "            message = \"is ADA compliant\"\n",
    "    elif feature == \"ramp cross-slope\" or \"sidewalk cross-slope\":\n",
    "        if grade > 1.5:\n",
    "            message = \"the ramp cross-slope shall be less than 1.5%\"\n",
    "        else:\n",
    "            message = \"is ADA compliant\"\n",
    "    elif feature == \"sidewalk running slope\":\n",
    "        if grade > 4.5:\n",
    "            message = \"the sidewalk running slope shall be less than 4.5%\"\n",
    "        else:\n",
    "            message = \"is ADA compliant\"\n",
    "    print(\"The grade is\", '%.2f'%grade,\"% and\",message)"
   ]
  },
  {
   "cell_type": "code",
   "execution_count": 27,
   "metadata": {},
   "outputs": [
    {
     "name": "stdout",
     "output_type": "stream",
     "text": [
      "The grade is 11.20 % and the ramp cross-slope shall be less than 1.5%\n"
     ]
    }
   ],
   "source": [
    "grade(466.51,465.95,5,\"ramp cross-slope\")"
   ]
  },
  {
   "cell_type": "code",
   "execution_count": 29,
   "metadata": {},
   "outputs": [
    {
     "name": "stdout",
     "output_type": "stream",
     "text": [
      "The grade is 1.20 % and is ADA compliant\n"
     ]
    }
   ],
   "source": [
    "grade(466.01,465.95,5, \"wing\")"
   ]
  },
  {
   "cell_type": "code",
   "execution_count": null,
   "metadata": {},
   "outputs": [],
   "source": []
  }
 ],
 "metadata": {
  "kernelspec": {
   "display_name": "Python 3",
   "language": "python",
   "name": "python3"
  },
  "language_info": {
   "codemirror_mode": {
    "name": "ipython",
    "version": 3
   },
   "file_extension": ".py",
   "mimetype": "text/x-python",
   "name": "python",
   "nbconvert_exporter": "python",
   "pygments_lexer": "ipython3",
   "version": "3.7.3"
  }
 },
 "nbformat": 4,
 "nbformat_minor": 4
}
